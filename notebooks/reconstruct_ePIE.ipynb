{
  "cells": [
    {
      "cell_type": "code",
      "execution_count": 1,
      "metadata": {},
      "outputs": [],
      "source": [
        "%matplotlib widget\n",
        "%reload_ext autoreload\n",
        "%autoreload 2\n",
        "\n",
        "import typing as t\n",
        "\n",
        "from matplotlib import pyplot\n",
        "import matplotlib.patches as patches\n",
        "\n",
        "import numpy\n",
        "from numpy.typing import NDArray, ArrayLike"
      ]
    },
    {
      "cell_type": "code",
      "execution_count": 2,
      "metadata": {},
      "outputs": [],
      "source": [
        "from pathlib import Path\n",
        "from ptycho_lebeau.metadata import AnyMetadata\n",
        "\n",
        "#meta = AnyMetadata.parse_file(\"/Users/colin/Downloads/mos2/1/mos2/mos2_0.00_dstep1.0.json\")\n",
        "meta = AnyMetadata.parse_file(Path(\"~/mos2/1/mos2/mos2_0.00_dstep1.0.json\").expanduser())\n",
        "print(meta.json(indent='    '))"
      ]
    },
    {
      "cell_type": "code",
      "execution_count": 8,
      "metadata": {},
      "outputs": [],
      "source": [
        "from phaser.io.empad import load_4d\n",
        "\n",
        "assert meta.path is not None\n",
        "assert meta.raw_filename is not None\n",
        "raw = load_4d(meta.path / meta.raw_filename)\n",
        "\n",
        "# fftshift patterns to corners\n",
        "raw = numpy.fft.fftshift(raw, axes=(-1, -2)).reshape((-1, *raw.shape[-2:]))\n",
        "# normalize patterns\n",
        "raw /= numpy.sum(raw, axis=(-2, -1))[:, None, None]\n",
        "\n",
        "dose = 100000  # e/A^2\n",
        "px_area = numpy.prod(numpy.array(meta.scan_step) * 1e10)\n",
        "dose_per_pattern = dose * px_area\n",
        "# e * 1.602e-19 C/e / 1e-3 s * 1e12 pA/A -> pA\n",
        "print(f\"Equiv. beam current: {(dose_per_pattern * 1.6021766e-07) / 1e-3:.3f} pA\")\n",
        "\n",
        "# apply poisson noise\n",
        "noisy = numpy.random.poisson(dose_per_pattern * raw).astype(numpy.float32) / dose_per_pattern"
      ]
    },
    {
      "cell_type": "markdown",
      "metadata": {},
      "source": [
        "## Various helper functions"
      ],
      "outputs": []
    },
    {
      "cell_type": "code",
      "execution_count": 10,
      "metadata": {},
      "outputs": [],
      "source": [
        "from phaser.utils.num import fft2, ifft2, abs2\n",
        "\n",
        "def calc_groupings(grouping: int = 8, seed: t.Any = None) -> list[NDArray[numpy.int_]]:\n",
        "    rng = numpy.random.RandomState(seed)\n",
        "    idxs = numpy.arange(raw.shape[0])\n",
        "    rng.shuffle(idxs)\n",
        "    return numpy.array_split(idxs, numpy.ceil(raw.shape[0] / grouping).astype(numpy.int_))"
      ]
    },
    {
      "cell_type": "markdown",
      "metadata": {},
      "source": [
        "## Make probe & propagators"
      ],
      "outputs": []
    },
    {
      "cell_type": "code",
      "execution_count": 11,
      "metadata": {},
      "outputs": [],
      "source": [
        "from phaser.utils.num import Sampling\n",
        "from phaser.utils.physics import Electron\n",
        "\n",
        "wavelength = Electron(meta.voltage).wavelength\n",
        "print(wavelength)\n",
        "\n",
        "kstep = meta.diff_step*1e-3 / wavelength\n",
        "(b, a) = (1/kstep,) * 2\n",
        "\n",
        "grid = Sampling(raw.shape[-2:], extent=(b, a))"
      ]
    },
    {
      "cell_type": "code",
      "execution_count": 24,
      "metadata": {},
      "outputs": [],
      "source": [
        "from phaser.utils.optics import make_focused_probe\n",
        "\n",
        "init_probe = make_focused_probe(*grid.recip_grid(), wavelength, meta.conv_angle, defocus=meta.defocus*1e10)\n",
        "\n",
        "fig, (ax1, ax2) = pyplot.subplots(ncols=2)\n",
        "\n",
        "ax1.imshow(abs2(init_probe))\n",
        "ax2.imshow(numpy.fft.fftshift(abs2(fft2(init_probe))))\n",
        "pyplot.show()"
      ]
    },
    {
      "cell_type": "markdown",
      "metadata": {},
      "source": [
        "## Make scan"
      ],
      "outputs": []
    },
    {
      "cell_type": "code",
      "execution_count": 13,
      "metadata": {},
      "outputs": [],
      "source": [
        "from phaser.utils.scan import make_raster_scan\n",
        "\n",
        "(n_x, n_y) = meta.scan_shape\n",
        "scan = make_raster_scan((n_y, n_x), numpy.array(meta.scan_step[::-1]) * 1e10).reshape(-1, 2)\n",
        "\n",
        "fig, ax = pyplot.subplots()\n",
        "ax.invert_yaxis()\n",
        "ax.set_aspect(1.)\n",
        "ax.scatter(scan[..., 1], scan[..., 0], s=1.)\n",
        "ax.scatter([scan[2, 1]], [scan[2, 0]], c='red', s=2.)\n",
        "pyplot.show()"
      ]
    },
    {
      "cell_type": "markdown",
      "metadata": {},
      "source": [
        "## Make object"
      ],
      "outputs": []
    },
    {
      "cell_type": "code",
      "execution_count": 14,
      "metadata": {},
      "outputs": [],
      "source": [
        "from phaser.utils.object import ObjectSampling\n",
        "\n",
        "# we pad by 1/2 the object size, plus an extra pixel\n",
        "obj_grid = ObjectSampling.from_scan(scan, grid.sampling, pad=grid.extent / 2. + grid.sampling)\n",
        "\n",
        "(y_min, x_min) = obj_grid.min\n",
        "(y_max, x_max) = obj_grid.max\n",
        "\n",
        "fig, ax = pyplot.subplots()\n",
        "ax.invert_yaxis()\n",
        "ax.set_aspect(1.)\n",
        "ax.add_patch(patches.Rectangle((x_min, y_min), x_max - x_min, y_max - y_min, fill=False, transform=ax.transData))\n",
        "(yy, xx) = obj_grid.grid()\n",
        "#ax.pcolormesh(yy, xx, yy)\n",
        "ax.scatter(scan[:, 1], scan[:, 0], s=1, c='blue')\n",
        "\n",
        "i = 4\n",
        "ax.scatter([scan[i, 1]], [scan[i, 0]], s=2, c='red')\n",
        "slicey, slicex = obj_grid.slice_at_pos(scan[i], raw.shape[-2:])\n",
        "(starty, startx) = (yy[slicey.start, 0], xx[0, slicex.start])\n",
        "(stopy, stopx) = (yy[slicey.stop, 0], xx[0, slicex.stop])\n",
        "\n",
        "ax.add_patch(patches.Rectangle((startx, starty), stopx - startx, stopy - starty, fill=False, transform=ax.transData, color='red'))\n",
        "\n",
        "print(obj_grid.slice_at_pos(scan[i], (128, 128)))\n",
        "\n",
        "pyplot.show()"
      ]
    },
    {
      "cell_type": "markdown",
      "metadata": {},
      "source": [
        "## Iteration loop"
      ],
      "outputs": []
    },
    {
      "cell_type": "code",
      "execution_count": 28,
      "metadata": {},
      "outputs": [],
      "source": [
        "from phaser.utils.optics import fourier_shift_filter\n",
        "\n",
        "# experimental data, shape (N, ky, kx)\n",
        "exp_data = raw\n",
        "\n",
        "# random start object\n",
        "rng = numpy.random.RandomState(seed=123456)\n",
        "#obj_angle = gaussian_filter(rng.normal(0., 1e-4, obj_grid.shape), 4.)\n",
        "obj_angle = rng.normal(0., 1e-6, obj_grid.shape)\n",
        "obj = (numpy.cos(obj_angle) + numpy.sin(obj_angle) * 1.j)\n",
        "\n",
        "# probe model\n",
        "probe = init_probe.copy()\n",
        "\n",
        "(ky, kx) = grid.recip_grid()\n",
        "cutout_shape = probe.shape[-2:]\n",
        "\n",
        "alpha = 1.0        # beta in 2004 paper, alpha in 2009 paper\n",
        "beta = 1.0         # beta in 2009 paper (probe update factor)\n",
        "illum_reg = 0.2    # alpha in 2004 paper. used only for ePIE for some reason\n",
        "\n",
        "for i in range(5):\n",
        "    groups = calc_groupings(16)\n",
        "\n",
        "    for (group_i, group) in enumerate(groups):\n",
        "        group_scan = scan[group]\n",
        "        # group probes in reciprocal space\n",
        "        group_subpx_filters = fourier_shift_filter(ky, kx, obj_grid.get_subpx_shifts(group_scan, cutout_shape))\n",
        "        group_probes = ifft2(group_subpx_filters * fft2(probe))\n",
        "        group_patterns = raw[group]\n",
        "\n",
        "        group_objs = obj_grid.get_view_at_pos(obj, group_scan, cutout_shape)\n",
        "\n",
        "        exit_wave = group_objs * group_probes\n",
        "\n",
        "        pattern_model = fft2(exit_wave)\n",
        "        intensity_model = numpy.abs(pattern_model)**2\n",
        "\n",
        "        # modulus constraint\n",
        "        intensity_update = numpy.sqrt(group_patterns / (intensity_model + 1e-18)) - 1.0\n",
        "        wave_diff = ifft2(pattern_model * intensity_update)\n",
        "\n",
        "        # ePIE\n",
        "        group_obj_update = alpha * group_probes.conj() / numpy.max(numpy.abs(group_probes)**2, axis=(-1, -2), keepdims=True) * wave_diff\n",
        "        probe_update = beta * group_objs.conj() / numpy.max(numpy.abs(group_objs)**2, axis=(-1, -2), keepdims=True) * wave_diff\n",
        "        # average probe update in group\n",
        "        probe_update = ifft2(numpy.mean(fft2(probe_update) / group_subpx_filters, axis=0))\n",
        "\n",
        "        obj_update = numpy.zeros_like(obj)\n",
        "        obj_grid.set_view_at_pos(obj_update, group_scan, group_obj_update)\n",
        "\n",
        "        obj += obj_update\n",
        "        probe += probe_update\n",
        "\n",
        "    print(f\"Finished iter #{i+1}\")"
      ]
    },
    {
      "cell_type": "code",
      "execution_count": 29,
      "metadata": {},
      "outputs": [],
      "source": [
        "from phaser.utils.filter import remove_linear_ramp\n",
        "\n",
        "fig, axs = pyplot.subplots(ncols=2, nrows=3)\n",
        "fig.set_size_inches(4, 7)\n",
        "\n",
        "for ax in axs.ravel():\n",
        "    ax.set_axis_off()\n",
        "\n",
        "axs[0, 1].sharex(axs[0, 0])\n",
        "axs[0, 1].sharey(axs[0, 0])\n",
        "for idxs in ((1, 1), (2, 0), (2, 1)):\n",
        "    axs[*idxs].sharex(axs[1, 0])\n",
        "    axs[*idxs].sharey(axs[1, 0])\n",
        "\n",
        "pattern_max = max(map(numpy.nanmax, (group_patterns[0], intensity_model[0])))\n",
        "\n",
        "axs[0, 0].set_title(\"Object\")\n",
        "if True:\n",
        "    crop = obj_grid.get_region_crop()\n",
        "    #crop = numpy.ceil(sim_r / numpy.array([px_size_y, px_size_x])).astype(numpy.int_)\n",
        "    #crop = (slice(crop[0], -crop[0]), slice(crop[0], -crop[0]))\n",
        "else:\n",
        "    crop = (slice(0, None), slice(0, None))\n",
        "\n",
        "axs[0, 0].imshow(remove_linear_ramp(numpy.angle(obj[*crop])))\n",
        "\n",
        "#axs[0].imshow(numpy.angle(obj))\n",
        "axs[1, 0].set_title(\"Measured Pattern\")\n",
        "axs[1, 0].imshow(numpy.fft.fftshift(group_patterns[0]), vmin=0., vmax=pattern_max)\n",
        "axs[1, 1].set_title(\"Recons. Pattern\")\n",
        "axs[1, 1].imshow(numpy.fft.fftshift(intensity_model[0]), vmin=0., vmax=pattern_max)\n",
        "axs[0, 1].set_title(\"Obj update phase\")\n",
        "axs[0, 1].imshow(numpy.angle(obj_update[*crop]))\n",
        "axs[2, 0].set_title(\"Probe\")\n",
        "axs[2, 0].imshow(abs2(probe))\n",
        "axs[2, 1].set_title(\"Probe update phase\")\n",
        "axs[2, 1].imshow(numpy.angle(probe_update))"
      ]
    }
  ],
  "metadata": {
    "kernelspec": {
      "display_name": "phaser",
      "language": "python",
      "name": "phaser"
    },
    "language_info": {
      "codemirror_mode": {
        "name": "ipython",
        "version": 3
      },
      "file_extension": ".py",
      "mimetype": "text/x-python",
      "name": "python",
      "nbconvert_exporter": "python",
      "pygments_lexer": "ipython3",
      "version": "3.12.2"
    }
  },
  "nbformat": 4,
  "nbformat_minor": 2
}
