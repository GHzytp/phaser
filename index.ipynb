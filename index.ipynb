{
  "cells": [
    {
      "cell_type": "code",
      "execution_count": 2,
      "id": "9644b7c8-7597-482c-b87f-154295d0884c",
      "metadata": {},
      "outputs": [],
      "source": [
        "%reload_ext autoreload\n",
        "%autoreload 2\n",
        "%matplotlib widget\n",
        "\n",
        "import numpy\n",
        "from matplotlib import pyplot"
      ]
    },
    {
      "cell_type": "markdown",
      "id": "94bdae0a",
      "metadata": {},
      "source": [
        "# Loading and visualizing datasets\n",
        "\n",
        "## Collection of included datasets"
      ],
      "outputs": []
    },
    {
      "cell_type": "code",
      "execution_count": 3,
      "id": "888bfebe",
      "metadata": {},
      "outputs": [],
      "source": [
        "from pathlib import Path\n",
        "\n",
        "metadata_paths = {\n",
        "    'sim_mos2': Path('sample_data/simulated_mos2/mos2_0.00_dstep1.0.json'),\n",
        "    'exp_mos2': Path('sample_data/experimental_mos2/mos2_twisted.json'),\n",
        "    'exp_si': Path('sample_data/experimental_si/acq12_20over.json'),\n",
        "    'sim_si': Path('sample_data/simulated_si/Si_110_Sn_300kV_conv25_defocus15_tds_199.70_dstep0.6.json')\n",
        "}\n",
        "\n",
        "for path in metadata_paths.values():\n",
        "    assert path.exists()"
      ]
    },
    {
      "cell_type": "markdown",
      "id": "407eeb67",
      "metadata": {},
      "source": [
        "## View dataset metadata"
      ],
      "outputs": []
    },
    {
      "cell_type": "code",
      "execution_count": 4,
      "id": "eeb8a42f",
      "metadata": {},
      "outputs": [],
      "source": [
        "# load metadata for a dataset\n",
        "import json\n",
        "\n",
        "meta_path = metadata_paths['exp_si']\n",
        "\n",
        "with open(meta_path, 'r') as f:\n",
        "    metadata = json.load(f)\n",
        "\n",
        "metadata"
      ]
    },
    {
      "cell_type": "markdown",
      "id": "2d3f442a",
      "metadata": {},
      "source": [
        "## Load raw data"
      ],
      "outputs": []
    },
    {
      "cell_type": "code",
      "execution_count": 5,
      "id": "3460ff21",
      "metadata": {},
      "outputs": [],
      "source": [
        "from phaser.io.empad import load_4d\n",
        "\n",
        "raw_data = load_4d(meta_path.parent / metadata['raw_filename'])\n",
        "raw_data.shape"
      ]
    },
    {
      "cell_type": "markdown",
      "id": "383b51d2",
      "metadata": {},
      "source": [
        "## Visualize raw data\n",
        "\n",
        "Here, we visualize the sum of the diffraction patterns. This is a position-averaged convergent beam electron diffraction (PACBED) pattern, and can be used to accurately identify crystalline thickness and mistilt"
      ],
      "outputs": []
    },
    {
      "cell_type": "code",
      "execution_count": 7,
      "id": "e02a7dfc",
      "metadata": {},
      "outputs": [],
      "source": [
        "from phaser.utils.plotting import plot_pacbed\n",
        "\n",
        "plot_pacbed(raw_data, log=True, diff_step=metadata['diff_step']);"
      ]
    },
    {
      "cell_type": "markdown",
      "id": "ab30a0d9",
      "metadata": {},
      "source": [
        "We can also visualize the dataset using virtual images and the raw diffraction patterns. This is useful for identifying data orientation, detector rotation, defocus, and overall dataset quality"
      ],
      "outputs": []
    },
    {
      "cell_type": "code",
      "execution_count": 8,
      "id": "11c77ed3",
      "metadata": {},
      "outputs": [],
      "source": [
        "from phaser.utils.plotting import plot_raw\n",
        "\n",
        "ky = numpy.arange(raw_data.shape[-2], dtype=numpy.float32) - raw_data.shape[-2] / 2.\n",
        "kx = numpy.arange(raw_data.shape[-1], dtype=numpy.float32) - raw_data.shape[-1] / 2.\n",
        "ky, kx = numpy.meshgrid(numpy.fft.ifftshift(ky), numpy.fft.ifftshift(kx), indexing='ij')\n",
        "k2 = ky**2 + kx**2\n",
        "\n",
        "# create a virtual detector\n",
        "# in this case this is a 3 px virtual bright field (vBF) detector\n",
        "mask = k2 <= 3**2\n",
        "\n",
        "plot_raw(\n",
        "    raw_data, mask=mask,\n",
        "    scan_step=tuple(s*1e10 for s in metadata['scan_step']),\n",
        "    diff_step=metadata['diff_step'], log=False,\n",
        ");"
      ]
    },
    {
      "cell_type": "markdown",
      "id": "4e82d3d3",
      "metadata": {},
      "source": [
        "# Analyzing sampling metrics\n",
        "\n",
        "To further assess the quality of the dataset, we can use sampling metrics. These metrics are a useful rule of thumb for identifying optimal acquisition parameters."
      ],
      "outputs": []
    },
    {
      "cell_type": "code",
      "execution_count": 9,
      "id": "64f42cf0",
      "metadata": {},
      "outputs": [],
      "source": [
        "from phaser.utils.optics import calc_metrics\n",
        "from phaser.utils.plotting import plot_metrics\n",
        "\n",
        "metrics = calc_metrics(\n",
        "    voltage=metadata['voltage'], conv_angle=metadata['conv_angle'],\n",
        "    defocus=metadata['defocus']*1e10, scan_step=metadata['scan_step'][0]*1e10,\n",
        "    diff_step=metadata['diff_step'], threshold=0.3\n",
        ")\n",
        "metrics"
      ]
    },
    {
      "cell_type": "code",
      "execution_count": 10,
      "id": "7bc2c6e2",
      "metadata": {},
      "outputs": [],
      "source": [
        "plot_metrics(metrics);"
      ]
    },
    {
      "cell_type": "markdown",
      "id": "16829651",
      "metadata": {},
      "source": [
        "# Running a reconstruction\n",
        "\n",
        "First, we start a reconstruction manager, which contains reconstruction workers:"
      ],
      "outputs": []
    },
    {
      "cell_type": "code",
      "execution_count": 1,
      "id": "dd58f57e-7615-4c72-85c3-3ab8dabaeab9",
      "metadata": {},
      "outputs": [],
      "source": [
        "from phaser.web.notebook import Manager\n",
        "from phaser.plan import ReconsPlan\n",
        "\n",
        "manager = Manager()\n",
        "manager.start()"
      ]
    },
    {
      "cell_type": "markdown",
      "id": "e5bca2ef",
      "metadata": {},
      "source": [
        "Then, we can submit a job:\n",
        "\n",
        "Reconstructions are specified in a declarative format, and then processed by the worker to produce a reconstruction"
      ],
      "outputs": []
    },
    {
      "cell_type": "code",
      "execution_count": 17,
      "id": "de46dc8d",
      "metadata": {},
      "outputs": [],
      "source": [
        "mos2_meta"
      ]
    },
    {
      "cell_type": "code",
      "execution_count": 6,
      "id": "015065c3-7faf-4785-9aaa-aa3c1364d3c5",
      "metadata": {},
      "outputs": [],
      "source": [
        "mos2_meta_path = metadata_paths['sim_mos2']\n",
        "\n",
        "with open(mos2_meta_path, 'r') as f:\n",
        "    mos2_meta = json.load(f)\n",
        "\n",
        "plan = ReconsPlan.from_data({\n",
        "    'name': 'mos2_lsqml',\n",
        "\n",
        "    # how to load the raw data\n",
        "    'raw_data': {\n",
        "        'type': 'empad',\n",
        "        'path': mos2_meta_path.parent / mos2_meta['raw_filename'],\n",
        "        'diff_step': mos2_meta['diff_step'],\n",
        "        'kv': mos2_meta['voltage'] / 1e3,\n",
        "    },\n",
        "\n",
        "    # how to initialize the simulation\n",
        "    'init_probe': {\n",
        "        'type': 'focused',\n",
        "        'conv_angle': mos2_meta['conv_angle'],\n",
        "        'defocus': mos2_meta['defocus'] * 1e10,\n",
        "    },\n",
        "    'init_object': 'random',\n",
        "    'init_scan': {\n",
        "        'type': 'raster',\n",
        "        'shape': mos2_meta['scan_shape'],\n",
        "        'step_size': mos2_meta['scan_step'][0] * 1e10,\n",
        "    },\n",
        "    'preprocessing': [{\n",
        "        'type': 'poisson',\n",
        "        'scale': 1.0e+6,\n",
        "    }],\n",
        "\n",
        "    # how to run the reconstruction\n",
        "    'engines': [{\n",
        "        'type': 'conventional',\n",
        "        'probe_modes': 4,\n",
        "        'niter': 200,\n",
        "        'grouping': 64,\n",
        "        'noise_model': {\n",
        "            'type': 'anscombe',\n",
        "            'eps': 0.1,\n",
        "        },\n",
        "        'solver': {\n",
        "            'type': 'lsqml',\n",
        "            'gamma': 1.0e-4,\n",
        "            'illum_reg_object': 1.0e-2,\n",
        "            'illum_reg_probe': 1.0e-2,\n",
        "        },\n",
        "        'regularizers': [{\n",
        "            'type': 'clamp_object_amplitude',\n",
        "            'amplitude': 1.2,\n",
        "        }],\n",
        "        'update_probe': {'after': 1},\n",
        "        'update_positions': False,\n",
        "    }]\n",
        "})\n",
        "\n",
        "plan"
      ]
    },
    {
      "cell_type": "code",
      "execution_count": null,
      "id": "cb90a567-0c0a-48fb-a349-e2e51552d7a8",
      "metadata": {},
      "outputs": [],
      "source": [
        "manager.start_job(plan)"
      ]
    }
  ],
  "metadata": {
    "kernelspec": {
      "display_name": "venv",
      "language": "python",
      "name": "python3"
    },
    "language_info": {
      "codemirror_mode": {
        "name": "ipython",
        "version": 3
      },
      "file_extension": ".py",
      "mimetype": "text/x-python",
      "name": "python",
      "nbconvert_exporter": "python",
      "pygments_lexer": "ipython3",
      "version": "3.12.9"
    }
  },
  "nbformat": 4,
  "nbformat_minor": 5
}
