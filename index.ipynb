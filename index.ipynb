{
 "cells": [
  {
   "cell_type": "code",
   "execution_count": null,
   "id": "9644b7c8-7597-482c-b87f-154295d0884c",
   "metadata": {},
   "outputs": [],
   "source": [
    "%reload_ext autoreload\n",
    "%autoreload 2\n",
    "%matplotlib widget\n",
    "\n",
    "import numpy"
   ]
  },
  {
   "cell_type": "markdown",
   "id": "94bdae0a",
   "metadata": {},
   "source": [
    "# Loading and visualizing datasets\n",
    "\n",
    "## Collection of included datasets"
   ]
  },
  {
   "cell_type": "code",
   "execution_count": null,
   "id": "888bfebe",
   "metadata": {},
   "outputs": [],
   "source": [
    "from pathlib import Path\n",
    "base_path = Path('sample_data').expanduser()\n",
    "\n",
    "metadata_paths = {\n",
    "    'sim_mos2': base_path / Path('simulated_mos2/mos2_0.00_dstep1.0.json'),\n",
    "    'exp_mos2': base_path / Path('experimental_mos2/mos2_twisted.json'),\n",
    "    'exp_si': base_path / Path('experimental_si/acq12_20over.json'),\n",
    "    'sim_si': base_path / Path('simulated_si/Si_110_Sn_300kV_conv25_defocus15_tds_199.70_dstep0.6.json'),\n",
    "    'exp_prsco3': base_path / Path('experimental_prsco3/PSO.json')\n",
    "}\n",
    "\n",
    "for path in metadata_paths.values():\n",
    "    assert path.exists()"
   ]
  },
  {
   "cell_type": "markdown",
   "id": "407eeb67",
   "metadata": {},
   "source": [
    "## View dataset metadata"
   ]
  },
  {
   "cell_type": "code",
   "execution_count": null,
   "id": "eeb8a42f",
   "metadata": {},
   "outputs": [],
   "source": [
    "# load metadata for a dataset\n",
    "import json\n",
    "\n",
    "meta_path = metadata_paths['exp_si']\n",
    "\n",
    "with open(meta_path, 'r') as f:\n",
    "    metadata = json.load(f)\n",
    "\n",
    "metadata"
   ]
  },
  {
   "cell_type": "markdown",
   "id": "2d3f442a",
   "metadata": {},
   "source": [
    "## Load raw data"
   ]
  },
  {
   "cell_type": "code",
   "execution_count": null,
   "id": "3460ff21",
   "metadata": {},
   "outputs": [],
   "source": [
    "from phaser.io.empad import load_4d\n",
    "\n",
    "raw_data = load_4d(meta_path.parent / metadata['raw_filename'])\n",
    "raw_data.shape"
   ]
  },
  {
   "cell_type": "markdown",
   "id": "383b51d2",
   "metadata": {},
   "source": [
    "## Visualize raw data\n",
    "\n",
    "Here, we visualize the sum of the diffraction patterns. This is a position-averaged convergent beam electron diffraction (PACBED) pattern, and can be used to accurately identify crystalline thickness and mistilt"
   ]
  },
  {
   "cell_type": "code",
   "execution_count": null,
   "id": "e02a7dfc",
   "metadata": {},
   "outputs": [],
   "source": [
    "from phaser.utils.plotting import plot_pacbed\n",
    "\n",
    "plot_pacbed(raw_data, log=True, diff_step=metadata['diff_step']);"
   ]
  },
  {
   "cell_type": "markdown",
   "id": "ab30a0d9",
   "metadata": {},
   "source": [
    "We can also visualize the dataset using virtual images and the raw diffraction patterns. This is useful for identifying data orientation, detector rotation, defocus, and overall dataset quality"
   ]
  },
  {
   "cell_type": "code",
   "execution_count": null,
   "id": "11c77ed3",
   "metadata": {},
   "outputs": [],
   "source": [
    "from phaser.utils.plotting import plot_raw\n",
    "\n",
    "ky = numpy.arange(raw_data.shape[-2], dtype=numpy.float32) - raw_data.shape[-2] / 2.\n",
    "kx = numpy.arange(raw_data.shape[-1], dtype=numpy.float32) - raw_data.shape[-1] / 2.\n",
    "ky, kx = numpy.meshgrid(ky, kx, indexing='ij')\n",
    "k2 = ky**2 + kx**2\n",
    "\n",
    "# create a virtual detector\n",
    "# in this case this is a 3 px virtual bright field (vBF) detector\n",
    "mask = k2 <= 3**2\n",
    "\n",
    "plot_raw(\n",
    "    raw_data, mask=mask,\n",
    "    scan_step=tuple(s*1e10 for s in metadata['scan_step']),\n",
    "    diff_step=metadata['diff_step'], log=False,\n",
    ");"
   ]
  },
  {
   "cell_type": "markdown",
   "id": "4e82d3d3",
   "metadata": {},
   "source": [
    "# Analyzing sampling metrics\n",
    "\n",
    "To further assess the quality of the dataset, we can use sampling metrics. These metrics are a useful rule of thumb for identifying optimal acquisition parameters."
   ]
  },
  {
   "cell_type": "code",
   "execution_count": null,
   "id": "64f42cf0",
   "metadata": {},
   "outputs": [],
   "source": [
    "from phaser.utils.optics import calc_metrics\n",
    "from phaser.utils.plotting import plot_metrics\n",
    "\n",
    "metrics = calc_metrics(\n",
    "    voltage=metadata['voltage'], conv_angle=metadata['conv_angle'],\n",
    "    defocus=metadata['defocus']*1e10, scan_step=metadata['scan_step'][0]*1e10,\n",
    "    diff_step=metadata['diff_step'], threshold=0.9\n",
    ")\n",
    "metrics"
   ]
  },
  {
   "cell_type": "code",
   "execution_count": null,
   "id": "7bc2c6e2",
   "metadata": {},
   "outputs": [],
   "source": [
    "plot_metrics(metrics);"
   ]
  },
  {
   "cell_type": "markdown",
   "id": "16829651",
   "metadata": {},
   "source": [
    "# Running a reconstruction\n",
    "\n",
    "First, we start a reconstruction manager, which contains reconstruction workers:"
   ]
  },
  {
   "cell_type": "code",
   "execution_count": null,
   "id": "dd58f57e-7615-4c72-85c3-3ab8dabaeab9",
   "metadata": {},
   "outputs": [],
   "source": [
    "from phaser.web.notebook import Manager\n",
    "from phaser.plan import ReconsPlan\n",
    "\n",
    "manager = Manager()\n",
    "manager.start()"
   ]
  },
  {
   "cell_type": "markdown",
   "id": "e5bca2ef",
   "metadata": {},
   "source": [
    "Then, we can submit a job:\n",
    "\n",
    "Reconstructions are specified in a declarative format, and then processed by the worker to produce a reconstruction"
   ]
  },
  {
   "cell_type": "code",
   "execution_count": null,
   "id": "015065c3-7faf-4785-9aaa-aa3c1364d3c5",
   "metadata": {},
   "outputs": [],
   "source": [
    "mos2_meta_path = metadata_paths['sim_mos2']\n",
    "\n",
    "plan = ReconsPlan.from_data({\n",
    "    'name': 'mos2_lsqml',\n",
    "\n",
    "    # how to load the raw data\n",
    "    'raw_data': {\n",
    "        'type': 'empad',\n",
    "        'path': str(mos2_meta_path),\n",
    "    },\n",
    "\n",
    "    # add poisson noise to simulated data\n",
    "    'post_load': [{\n",
    "        'type': 'poisson',\n",
    "        'scale': 6.0e+6,\n",
    "    }],\n",
    "\n",
    "    'engines': [{\n",
    "        'type': 'conventional',\n",
    "        'probe_modes': 2,\n",
    "        'niter': 200,\n",
    "        'grouping': 16,\n",
    "        'noise_model': {\n",
    "            'type': 'anscombe',\n",
    "            'eps': 0.1,\n",
    "        },\n",
    "        'solver': {\n",
    "            'type': 'lsqml',\n",
    "            'gamma': 1.0e-4,\n",
    "            'illum_reg_object': 1.0e-2,\n",
    "            'illum_reg_probe': 1.0e-2,\n",
    "        },\n",
    "        'group_constraints': [],\n",
    "        'iter_constraints': [],\n",
    "        'update_probe': {'after': 1},\n",
    "        'update_positions': False,\n",
    "    }]\n",
    "})\n",
    "\n",
    "plan"
   ]
  },
  {
   "cell_type": "code",
   "execution_count": null,
   "id": "cb90a567-0c0a-48fb-a349-e2e51552d7a8",
   "metadata": {},
   "outputs": [],
   "source": [
    "manager.start_job(plan)"
   ]
  },
  {
   "cell_type": "code",
   "execution_count": null,
   "id": "6ec19279-7f03-4602-9449-921cb66d9233",
   "metadata": {},
   "outputs": [],
   "source": [
    "manager.stop()"
   ]
  }
 ],
 "metadata": {
  "kernelspec": {
   "display_name": "venv",
   "language": "python",
   "name": "python3"
  },
  "language_info": {
   "codemirror_mode": {
    "name": "ipython",
    "version": 3
   },
   "file_extension": ".py",
   "mimetype": "text/x-python",
   "name": "python",
   "nbconvert_exporter": "python",
   "pygments_lexer": "ipython3",
   "version": "3.12.10"
  }
 },
 "nbformat": 4,
 "nbformat_minor": 5
}
